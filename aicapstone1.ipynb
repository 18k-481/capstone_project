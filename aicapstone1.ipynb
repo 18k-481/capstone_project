{
  "nbformat": 4,
  "nbformat_minor": 0,
  "metadata": {
    "colab": {
      "name": "aicapstone1",
      "provenance": [],
      "collapsed_sections": [],
      "include_colab_link": true
    },
    "kernelspec": {
      "name": "python3",
      "display_name": "Python 3"
    }
  },
  "cells": [
    {
      "cell_type": "markdown",
      "metadata": {
        "id": "view-in-github",
        "colab_type": "text"
      },
      "source": [
        "<a href=\"https://colab.research.google.com/github/18k-481/capstone_project/blob/main/aicapstone1.ipynb\" target=\"_parent\"><img src=\"https://colab.research.google.com/assets/colab-badge.svg\" alt=\"Open In Colab\"/></a>"
      ]
    },
    {
      "cell_type": "code",
      "metadata": {
        "colab": {
          "base_uri": "https://localhost:8080/",
          "height": 224
        },
        "id": "7X8XDau-3jtP",
        "outputId": "06ee83df-9fca-43ea-e50c-2728f5b6251f"
      },
      "source": [
        "#importing the required libraries\n",
        "import numpy as np\n",
        "import pandas as pd\n",
        "import matplotlib.pyplot as plt\n",
        "%matplotlib inline\n",
        "import seaborn as sns\n",
        "from mpl_toolkits.mplot3d import Axes3D\n",
        "from sklearn.model_selection import train_test_split\n",
        "from sklearn.ensemble import RandomForestClassifier\n",
        "from sklearn.metrics import accuracy_score,confusion_matrix, classification_report,f1_score\n",
        "df=pd.read_csv('/content/hypothyroid.csv')\n",
        "df.head()"
      ],
      "execution_count": null,
      "outputs": [
        {
          "output_type": "execute_result",
          "data": {
            "text/html": [
              "<div>\n",
              "<style scoped>\n",
              "    .dataframe tbody tr th:only-of-type {\n",
              "        vertical-align: middle;\n",
              "    }\n",
              "\n",
              "    .dataframe tbody tr th {\n",
              "        vertical-align: top;\n",
              "    }\n",
              "\n",
              "    .dataframe thead th {\n",
              "        text-align: right;\n",
              "    }\n",
              "</style>\n",
              "<table border=\"1\" class=\"dataframe\">\n",
              "  <thead>\n",
              "    <tr style=\"text-align: right;\">\n",
              "      <th></th>\n",
              "      <th>age</th>\n",
              "      <th>sex</th>\n",
              "      <th>on_thyroxine</th>\n",
              "      <th>query_on_thyroxine</th>\n",
              "      <th>on_antithyroid_medication</th>\n",
              "      <th>thyroid_surgery</th>\n",
              "      <th>query_hypothyroid</th>\n",
              "      <th>query_hyperthyroid</th>\n",
              "      <th>pregnant</th>\n",
              "      <th>sick</th>\n",
              "      <th>tumor</th>\n",
              "      <th>lithium</th>\n",
              "      <th>goitre</th>\n",
              "      <th>TSH_measured</th>\n",
              "      <th>TSH</th>\n",
              "      <th>T3_measured</th>\n",
              "      <th>T3</th>\n",
              "      <th>TT4_measured</th>\n",
              "      <th>TT4</th>\n",
              "      <th>T4U_measured</th>\n",
              "      <th>T4U</th>\n",
              "      <th>FTI_measured</th>\n",
              "      <th>FTI</th>\n",
              "      <th>Target</th>\n",
              "    </tr>\n",
              "  </thead>\n",
              "  <tbody>\n",
              "    <tr>\n",
              "      <th>0</th>\n",
              "      <td>72</td>\n",
              "      <td>0</td>\n",
              "      <td>0</td>\n",
              "      <td>0</td>\n",
              "      <td>0</td>\n",
              "      <td>0</td>\n",
              "      <td>0</td>\n",
              "      <td>0</td>\n",
              "      <td>0</td>\n",
              "      <td>0</td>\n",
              "      <td>0</td>\n",
              "      <td>0</td>\n",
              "      <td>0</td>\n",
              "      <td>1</td>\n",
              "      <td>30.0</td>\n",
              "      <td>1</td>\n",
              "      <td>0.6</td>\n",
              "      <td>1</td>\n",
              "      <td>15.0</td>\n",
              "      <td>1</td>\n",
              "      <td>1.48</td>\n",
              "      <td>1</td>\n",
              "      <td>10.0</td>\n",
              "      <td>1</td>\n",
              "    </tr>\n",
              "    <tr>\n",
              "      <th>1</th>\n",
              "      <td>15</td>\n",
              "      <td>1</td>\n",
              "      <td>1</td>\n",
              "      <td>0</td>\n",
              "      <td>0</td>\n",
              "      <td>0</td>\n",
              "      <td>0</td>\n",
              "      <td>0</td>\n",
              "      <td>0</td>\n",
              "      <td>0</td>\n",
              "      <td>0</td>\n",
              "      <td>0</td>\n",
              "      <td>0</td>\n",
              "      <td>1</td>\n",
              "      <td>145.0</td>\n",
              "      <td>1</td>\n",
              "      <td>1.7</td>\n",
              "      <td>1</td>\n",
              "      <td>19.0</td>\n",
              "      <td>1</td>\n",
              "      <td>1.13</td>\n",
              "      <td>1</td>\n",
              "      <td>17.0</td>\n",
              "      <td>1</td>\n",
              "    </tr>\n",
              "    <tr>\n",
              "      <th>2</th>\n",
              "      <td>24</td>\n",
              "      <td>0</td>\n",
              "      <td>0</td>\n",
              "      <td>0</td>\n",
              "      <td>0</td>\n",
              "      <td>0</td>\n",
              "      <td>0</td>\n",
              "      <td>0</td>\n",
              "      <td>0</td>\n",
              "      <td>0</td>\n",
              "      <td>0</td>\n",
              "      <td>0</td>\n",
              "      <td>0</td>\n",
              "      <td>1</td>\n",
              "      <td>0.0</td>\n",
              "      <td>1</td>\n",
              "      <td>0.2</td>\n",
              "      <td>1</td>\n",
              "      <td>4.0</td>\n",
              "      <td>1</td>\n",
              "      <td>1.00</td>\n",
              "      <td>1</td>\n",
              "      <td>0.0</td>\n",
              "      <td>1</td>\n",
              "    </tr>\n",
              "    <tr>\n",
              "      <th>3</th>\n",
              "      <td>24</td>\n",
              "      <td>1</td>\n",
              "      <td>0</td>\n",
              "      <td>0</td>\n",
              "      <td>0</td>\n",
              "      <td>0</td>\n",
              "      <td>0</td>\n",
              "      <td>0</td>\n",
              "      <td>0</td>\n",
              "      <td>0</td>\n",
              "      <td>0</td>\n",
              "      <td>0</td>\n",
              "      <td>0</td>\n",
              "      <td>1</td>\n",
              "      <td>430.0</td>\n",
              "      <td>1</td>\n",
              "      <td>0.4</td>\n",
              "      <td>1</td>\n",
              "      <td>6.0</td>\n",
              "      <td>1</td>\n",
              "      <td>1.04</td>\n",
              "      <td>1</td>\n",
              "      <td>6.0</td>\n",
              "      <td>1</td>\n",
              "    </tr>\n",
              "    <tr>\n",
              "      <th>4</th>\n",
              "      <td>77</td>\n",
              "      <td>0</td>\n",
              "      <td>0</td>\n",
              "      <td>0</td>\n",
              "      <td>0</td>\n",
              "      <td>0</td>\n",
              "      <td>0</td>\n",
              "      <td>0</td>\n",
              "      <td>0</td>\n",
              "      <td>0</td>\n",
              "      <td>0</td>\n",
              "      <td>0</td>\n",
              "      <td>0</td>\n",
              "      <td>1</td>\n",
              "      <td>7.3</td>\n",
              "      <td>1</td>\n",
              "      <td>1.2</td>\n",
              "      <td>1</td>\n",
              "      <td>57.0</td>\n",
              "      <td>1</td>\n",
              "      <td>1.28</td>\n",
              "      <td>1</td>\n",
              "      <td>44.0</td>\n",
              "      <td>1</td>\n",
              "    </tr>\n",
              "  </tbody>\n",
              "</table>\n",
              "</div>"
            ],
            "text/plain": [
              "   age  sex  on_thyroxine  query_on_thyroxine  ...   T4U  FTI_measured   FTI  Target\n",
              "0   72    0             0                   0  ...  1.48             1  10.0       1\n",
              "1   15    1             1                   0  ...  1.13             1  17.0       1\n",
              "2   24    0             0                   0  ...  1.00             1   0.0       1\n",
              "3   24    1             0                   0  ...  1.04             1   6.0       1\n",
              "4   77    0             0                   0  ...  1.28             1  44.0       1\n",
              "\n",
              "[5 rows x 24 columns]"
            ]
          },
          "metadata": {
            "tags": []
          },
          "execution_count": 15
        }
      ]
    },
    {
      "cell_type": "code",
      "metadata": {
        "colab": {
          "base_uri": "https://localhost:8080/",
          "height": 497
        },
        "id": "8aBUCv2YpC_0",
        "outputId": "26dab43a-f727-43e3-c767-4731c93ce3f3"
      },
      "source": [
        "# Plotting a heatmap to show correlations between variables\n",
        "\n",
        "corr = df[['TSH', 'T3', 'TT4', 'T4U', 'FTI', 'age']].corr()\n",
        "plt.figure(figsize = (13, 8))\n",
        "sns.heatmap(corr, cmap='RdYlGn', annot = True, center = 0)\n",
        "plt.title('Correlogram', fontsize = 15, color = 'darkgreen')\n",
        "plt.show()"
      ],
      "execution_count": null,
      "outputs": [
        {
          "output_type": "display_data",
          "data": {
            "image/png": "[encoded data removed]",
            "text/plain": [
              "<Figure size 936x576 with 2 Axes>"
            ]
          },
          "metadata": {
            "tags": [],
            "needs_background": "light"
          }
        }
      ]
    },
    {
      "cell_type": "markdown",
      "metadata": {
        "id": "FqD3aYbCMjuX"
      },
      "source": [
        "**Multiple linear regression using gradient** **descent**"
      ]
    },
    {
      "cell_type": "code",
      "metadata": {
        "colab": {
          "base_uri": "https://localhost:8080/",
          "height": 418
        },
        "id": "9MF0_xZgMifJ",
        "outputId": "bc238743-c20d-4fd5-c193-759b1bad300e"
      },
      "source": [
        "#without using sklearn library\n",
        "\n",
        "def cost_function(X, y, theta):\n",
        "    m = y.size\n",
        "    error = np.dot(X, theta.T) - y\n",
        "    cost = 1/(2*m) * np.dot(error.T, error)\n",
        "    return cost, error\n",
        "\n",
        "def gradient_descent(X, y, theta, alpha, iterations):\n",
        "    cost_array = np.zeros(iterations)\n",
        "    m = y.size\n",
        "    for i in range(iterations):\n",
        "        cost, error = cost_function(X, y, theta)\n",
        "        theta = theta - (alpha * (1/m) * np.dot(X.T, error))\n",
        "        cost_array[i] = cost\n",
        "    return theta, cost_array\n",
        "\n",
        "def plotChart(iterations, cost_num):\n",
        "    fig, ax = plt.subplots()\n",
        "    ax.plot(np.arange(iterations), cost_num, 'r')\n",
        "    ax.set_xlabel('Iterations')\n",
        "    ax.set_ylabel('Cost')\n",
        "    ax.set_title('Error vs Iterations')\n",
        "    plt.style.use('fivethirtyeight')\n",
        "    plt.show()\n",
        "\n",
        "def run():\n",
        "    # Import data\n",
        "    data = pd.read_csv('/content/hypothyroid.csv')\n",
        "\n",
        "    # Extract data into X and y\n",
        "    X = data[[\"age\",\"sex\",\"on_thyroxine\",\"query_on_thyroxine\",\"on_antithyroid_medication\",\"thyroid_surgery\",\"query_hypothyroid\",\"query_hyperthyroid\",\"pregnant\",\"sick\",\"tumor\",\"lithium\",\"goitre\",\"TSH_measured\",\"TSH\",\"T3_measured\",\"T3\",\"TT4_measured\",\"TT4\",\"T4U_measured\",\"T4U\",\"FTI_measured\",\"FTI\"]]\n",
        "    y = data['Target']\n",
        "\n",
        "    # Normalize our features\n",
        "    X = (X - X.mean()) / X.std()\n",
        "\n",
        "    # Add a 1 column to the start to allow vectorized gradient descent\n",
        "    X = np.c_[np.ones(X.shape[0]), X] \n",
        "\n",
        "    # Set hyperparameters\n",
        "    alpha = 0.01\n",
        "    iterations = 100\n",
        "\n",
        "\n",
        "    # Initialize Theta Values to 0\n",
        "    theta = np.zeros(X.shape[1])\n",
        "    initial_cost, Theta = cost_function(X, y, theta)\n",
        "\n",
        "    print('With initial theta values of {0}, cost error is {1}'.format(theta, initial_cost))\n",
        "\n",
        "    # Run Gradient Descent\n",
        "    theta, cost_num = gradient_descent(X, y, theta, alpha, iterations)\n",
        "\n",
        "    # Display cost chart\n",
        "    plotChart(iterations, cost_num)\n",
        "\n",
        "    final_cost, Theta= cost_function(X, y, theta)\n",
        "\n",
        "    print('With final theta values of {0}, cost error is {1}'.format(theta, final_cost))\n",
        "    #predicting the target value by giving random values of attributes\n",
        "    y_pred=np.dot(theta[1:24],[55,1,0,0,0,0,0,0,0,0,0,0,0,1,15,1,1.6,1,2.5,1,5,1,1.9])+theta[0:1]\n",
        "    print(\"Target value is \",int(y_pred))\n",
        "    \n",
        "\n",
        "run()"
      ],
      "execution_count": null,
      "outputs": [
        {
          "output_type": "stream",
          "text": [
            "With initial theta values of [0. 0. 0. 0. 0. 0. 0. 0. 0. 0. 0. 0. 0. 0. 0. 0. 0. 0. 0. 0. 0. 0. 0. 0.], cost error is 0.023869743914005693\n"
          ],
          "name": "stdout"
        },
        {
          "output_type": "display_data",
          "data": {
            "image/png": "[encoded data removed]",
            "text/plain": [
              "<Figure size 432x288 with 1 Axes>"
            ]
          },
          "metadata": {
            "tags": [],
            "needs_background": "light"
          }
        },
        {
          "output_type": "stream",
          "text": [
            "With final theta values of [ 0.03026529  0.00169637  0.00469066 -0.00094621 -0.00342657 -0.00140699\n",
            "  0.00433603  0.0027065   0.00179867 -0.00081325 -0.00451405 -0.0031109\n",
            " -0.00122465  0.00332301  0.0064088   0.069677    0.00317282 -0.01043469\n",
            "  0.00291933 -0.03259541  0.00288034  0.01258446  0.00287697 -0.02181969], cost error is 0.014485298501066788\n",
            "Target value is  1\n"
          ],
          "name": "stdout"
        }
      ]
    },
    {
      "cell_type": "markdown",
      "metadata": {
        "id": "KsEHpDDrLtfb"
      },
      "source": [
        "**Using Random Forest**"
      ]
    },
    {
      "cell_type": "code",
      "metadata": {
        "colab": {
          "base_uri": "https://localhost:8080/"
        },
        "id": "4WiGsMBx7tO_",
        "outputId": "e4c71995-fc85-48dd-ff94-f98921048e6d"
      },
      "source": [
        "\n",
        "# Selecting the independent variables and the target variable\n",
        "X = df.drop('Target',axis=1)\n",
        "\n",
        "#y = np.where(df.status == 'hypothyroid', 1, 0)\n",
        "y=df['Target']\n",
        "\n",
        "# Splitting the data into training and testing sets\n",
        "\n",
        "X_train, X_test, y_train, y_test = train_test_split(X, y, test_size = 0.3, random_state = 0)\n",
        "\n",
        "# Instantiating the model\n",
        "\n",
        "rf = RandomForestClassifier(random_state = 0)\n",
        "rf.fit(X_train, y_train)\n",
        "\n",
        "# Making predictions\n",
        "\n",
        "y_pred = rf.predict(X_test)\n",
        "#print(y_pred)\n",
        "\n",
        "# Measuring the accuracy of the model\n",
        "\n",
        "print(f'The accuracy score is: {accuracy_score(y_test, y_pred)} and the f1 score is {f1_score(y_test, y_pred)}')\n",
        "print('\\n')\n",
        "print(f'{classification_report(y_test, y_pred)}')\n",
        "confusion_matrix(y_test, y_pred)\n",
        "#storing accuracy value\n",
        "acs=accuracy_score(y_test, y_pred)\n",
        "print(acs)"
      ],
      "execution_count": null,
      "outputs": [
        {
          "output_type": "stream",
          "text": [
            "The accuracy score is: 0.9852476290832455 and the f1 score is 0.8205128205128205\n",
            "\n",
            "\n",
            "              precision    recall  f1-score   support\n",
            "\n",
            "           0       0.99      0.99      0.99       910\n",
            "           1       0.82      0.82      0.82        39\n",
            "\n",
            "    accuracy                           0.99       949\n",
            "   macro avg       0.91      0.91      0.91       949\n",
            "weighted avg       0.99      0.99      0.99       949\n",
            "\n",
            "0.9852476290832455\n"
          ],
          "name": "stdout"
        }
      ]
    },
    {
      "cell_type": "markdown",
      "metadata": {
        "id": "YoIHNKjGJj9d"
      },
      "source": [
        "# **SVM**\n",
        "\n",
        "\n",
        "\n"
      ]
    },
    {
      "cell_type": "code",
      "metadata": {
        "colab": {
          "base_uri": "https://localhost:8080/"
        },
        "id": "JUSTOF-VFAn6",
        "outputId": "3b26c54a-1551-4399-a6ee-fb5b3c2ae146"
      },
      "source": [
        "from sklearn.svm import SVC\n",
        "from sklearn.preprocessing import StandardScaler, LabelEncoder\n",
        "\n",
        "# Selecting the independent variables and the target variable\n",
        "\n",
        "X = df.drop('Target',axis=1)\n",
        "y = df[\"Target\"]\n",
        "\n",
        "# Instantiating and creating a list of models for iteration\n",
        "\n",
        "poly = SVC(kernel='poly')\n",
        "linear = SVC(kernel = 'linear')\n",
        "rbf = SVC(kernel ='rbf')\n",
        "\n",
        "# Creating a list of the models and model names\n",
        "\n",
        "models = [poly, linear, rbf]\n",
        "model_names = ['Polynomial', 'Linear', 'Rbf']\n",
        "# Creating a function that trains a model and returns its accuracy together with the model\n",
        "\n",
        "def predictor(model, X, y):\n",
        "  # Splitting the data into training and testing sets\n",
        "  X_train, X_test, y_train, y_test = train_test_split(X, y, test_size = 0.3, random_state = 0)\n",
        "  \n",
        "  # Standardising the data\n",
        "  sc = StandardScaler()\n",
        "  X_train = sc.fit_transform(X_train)\n",
        "  X_test = sc.transform(X_test)\n",
        "  \n",
        "  # Training the model and making predictions\n",
        "  model.fit(X_train, y_train)\n",
        "  y_pred = model.predict(X_test)\n",
        "  \n",
        "  # Measuring the accuracy of the model\n",
        "  f1 = f1_score(y_test, y_pred)\n",
        "  acc = accuracy_score(y_test, y_pred)\n",
        "  \n",
        "  # Returning the accuracy and the model\n",
        "  return acc, f1, model\n",
        "\n",
        "# Getting the accuracies of the models  using a for loop\n",
        "asc=[]\n",
        "for model, name in zip(models, model_names):\n",
        "  print(f'The accuracy score of {name:<10} is: {predictor(model, X, y)[0]} and the f1 score is: {predictor(model, X, y)[1]}')\n",
        "  asc.append(predictor(model,X,y)[0])\n",
        " # asc1=predictor(model,X,y)[]\n",
        "  #asc2=predictor(model,X,y)[2]\n",
        "print(asc)"
      ],
      "execution_count": null,
      "outputs": [
        {
          "output_type": "stream",
          "text": [
            "The accuracy score of Polynomial is: 0.9726027397260274 and the f1 score is: 0.6285714285714286\n",
            "The accuracy score of Linear     is: 0.9747102212855637 and the f1 score is: 0.6923076923076923\n",
            "The accuracy score of Rbf        is: 0.9768177028451 and the f1 score is: 0.6857142857142857\n",
            "[0.9726027397260274, 0.9747102212855637, 0.9768177028451]\n"
          ],
          "name": "stdout"
        }
      ]
    },
    {
      "cell_type": "code",
      "metadata": {
        "id": "TRsCLk6bKiPE",
        "colab": {
          "base_uri": "https://localhost:8080/",
          "height": 307
        },
        "outputId": "c1567ee8-085f-48f3-eac2-2a686fc437c7"
      },
      "source": [
        "#ploting the accuracy rates\n",
        "graph={\"RF\":acs,\"SVM-poly\":asc[0],\"SVM-linear\":asc[1],\"SVM-rbf\":asc[2]}\n",
        "dfg=pd.DataFrame(graph.items(), columns=['Model','accuracy rate'])\n",
        "dfg.plot(kind='bar', color='coral',figsize=(3,3))\n",
        "plt.xlabel('Algorithms')\n",
        "plt.xticks([0,1,2,3,4],[\"RF\",'SVM-poly',\"SVM-linear\",\"SVM-rbf\",\" \"])\n",
        "plt.ylabel('Accuracy Rate')\n",
        "plt.style.use('fivethirtyeight')\n",
        "plt.show()"
      ],
      "execution_count": null,
      "outputs": [
        {
          "output_type": "display_data",
          "data": {
            "image/png": "[encoded data removed]",
            "text/plain": [
              "<Figure size 216x216 with 1 Axes>"
            ]
          },
          "metadata": {
            "tags": []
          }
        }
      ]
    }
  ]
}